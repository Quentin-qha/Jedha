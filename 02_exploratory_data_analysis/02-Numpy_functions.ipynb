{
 "cells": [
  {
   "cell_type": "markdown",
   "metadata": {
    "id": "tEfQKpk2Hz33"
   },
   "source": [
    "# Numpy, common functions and probability densities 🕺\n",
    "\n",
    "Now you're an expert in using numpy for linear algebra, let's review some of the concepts of the [Calculus](https://app.jedha.co/track/introduction-to-calculus-track) and [Probability](https://app.jedha.co/track/probability) prepworks. Unlike previous lecture, this one will not cover *all* the prepworks' contents. We just cherry-picked some parts that are very important for data analysis and machine learning, and that can actually be dealt with thanks to Numpy.\n",
    "\n",
    "☝️ You're supposed to have already reviewed by yourself these prepworks before starting the fullstack track, if it's not the case... Well... It's never to late 😉\n",
    "Please consider taking some time during the afternoons to catch up with the prepworks ✌️\n",
    "\n",
    "In this course, you will learn how to use Numpy to :\n",
    "* Compute values of common functions\n",
    "* Create arrays of random numbers from a given probability density/distribution\n",
    "\n",
    "In the previous lecture, we focused on the `linalg` module of Numpy. In this one, we'll use Numpy's [math](https://numpy.org/doc/stable/reference/routines.math.html) and [random](https://numpy.org/doc/stable/reference/random/generator.html) modules."
   ]
  },
  {
   "cell_type": "code",
   "execution_count": 35,
   "metadata": {
    "executionInfo": {
     "elapsed": 344,
     "status": "ok",
     "timestamp": 1698775254420,
     "user": {
      "displayName": "Aurélie Mutschler",
      "userId": "09486760454547044843"
     },
     "user_tz": -60
    },
    "id": "sd_i_iZ4M0sW"
   },
   "outputs": [],
   "source": [
    "# import the library\n",
    "import numpy as np"
   ]
  },
  {
   "cell_type": "markdown",
   "metadata": {
    "id": "GCoRoDRlcA2K"
   },
   "source": [
    "## Common functions\n",
    "\n",
    "### Power and root functions\n",
    "\n",
    "#### Power function\n",
    "\n",
    "A power function is written as follows :\n",
    "\n",
    "$$\n",
    "f(x) = x^n\n",
    "$$\n",
    "\n",
    "where $n \\ne 1$ and $n \\in \\mathbb{N}$\n",
    "\n",
    "<img src=\"https://julie-online-courses.s3.eu-west-3.amazonaws.com/Calculus/power_functions.png\" width=\"600\"/>\n",
    "\n",
    "#### Root function\n",
    "\n",
    "A root function is a function defined for positive integer $n \\ne 1$ and $n \\in \\mathbb{N}$ :\n",
    "\n",
    "$$\n",
    "f(x) = \\sqrt[n]{x} = x^\\frac{1}{n}\n",
    "$$\n",
    "\n",
    "<img src=\"https://julie-online-courses.s3.eu-west-3.amazonaws.com/Calculus/root_functions.png\" width=\"600\"/>"
   ]
  },
  {
   "cell_type": "code",
   "execution_count": 36,
   "metadata": {
    "colab": {
     "base_uri": "https://localhost:8080/"
    },
    "executionInfo": {
     "elapsed": 29,
     "status": "ok",
     "timestamp": 1698775254884,
     "user": {
      "displayName": "Aurélie Mutschler",
      "userId": "09486760454547044843"
     },
     "user_tz": -60
    },
    "id": "PzJ9HVaicAUJ",
    "outputId": "1a16cbf9-c2fa-485a-b3f7-2621ab99d0c0"
   },
   "outputs": [
    {
     "name": "stdout",
     "output_type": "stream",
     "text": [
      "4 squared:  16.0\n",
      "2 power 5:  32.0\n",
      "Square root of 25:  5.0\n",
      "Cube root of 64:  4.0\n"
     ]
    }
   ],
   "source": [
    "# Example with numpy: pow and sqrt\n",
    "print(\"4 squared: \", np.math.pow(4, 2))\n",
    "print(\"2 power 5: \", np.math.pow(2, 5))\n",
    "print(\"Square root of 25: \", np.sqrt(25)) # sqrt is not in the math module !\n",
    "print(\"Cube root of 64: \", np.cbrt(64)) # neither is cbrt !"
   ]
  },
  {
   "cell_type": "markdown",
   "metadata": {
    "id": "EKGH6A76fuGx"
   },
   "source": [
    "### Exponential and logarithm\n",
    "\n",
    "#### Exponential\n",
    "\n",
    "The exponential function is the function that is equal to its derivative for each value of $x \\in \\mathbb{R}$ :\n",
    "\n",
    "$$\n",
    "\\begin{aligned}\n",
    "f(x) &= \\exp(x) = e^x \\\\\n",
    "f'(x) &= \\frac{df}{dx} = e^x\n",
    "\\end{aligned}\n",
    "$$\n",
    "\n",
    "where $e \\simeq 2.71828$ is Euler's constant.\n",
    "\n",
    "<img src=\"https://julie-online-courses.s3.eu-west-3.amazonaws.com/Calculus/natural_exponential_function.png\" width=\"400\"/>\n",
    "\n",
    "\n",
    "#### Natural logarithm\n",
    "\n",
    "The natural logarithm (usually written $\\ln$) is the inverse function to exponentiation. That means the logarithm of a given number x is the exponent to which $e$ must be raised to produce that number x:\n",
    "\n",
    "$$\n",
    "\\begin{aligned}\n",
    "e^y &= x  \\\\\n",
    "& \\Updownarrow \\\\\n",
    "\\ln(x) &= y\n",
    "\\end{aligned}\n",
    "$$\n",
    "\n",
    "#### Common logarithm\n",
    "\n",
    "The common logarithm (usually written $\\log$) is the logarithm with base 10. It behaves like the natural logarithm, by replacing Euler's constant $e$ by 10 :\n",
    "\n",
    "$$\n",
    "\\begin{aligned}\n",
    "10^y &= x  \\\\\n",
    "& \\Updownarrow \\\\\n",
    "\\log(x) &= y\n",
    "\\end{aligned}\n",
    "$$\n",
    "\n",
    "**Remark :** the domain of $\\ln(x)$ and $\\log(x)$ is $\\mathbb{R}^{+*}$ (real positive non-zero numbers)\n",
    "\n",
    "<img src=\"https://julie-online-courses.s3.eu-west-3.amazonaws.com/Calculus/common_natural_logs.png\" width=\"600\"/>"
   ]
  },
  {
   "cell_type": "code",
   "execution_count": 37,
   "metadata": {
    "colab": {
     "base_uri": "https://localhost:8080/"
    },
    "executionInfo": {
     "elapsed": 27,
     "status": "ok",
     "timestamp": 1698775254885,
     "user": {
      "displayName": "Aurélie Mutschler",
      "userId": "09486760454547044843"
     },
     "user_tz": -60
    },
    "id": "FigRCiaIeVvE",
    "outputId": "0aa428ac-5a7b-440f-daea-c72a29443c38"
   },
   "outputs": [
    {
     "name": "stdout",
     "output_type": "stream",
     "text": [
      "Exponential of 1:  2.718281828459045\n",
      "Exponential of 0:  1.0\n",
      "Natural logarithm of 10:  2.302585092994046\n",
      "Base 10 logarithm of 10:  1.0\n"
     ]
    }
   ],
   "source": [
    "# Example with numpy\n",
    "print(\"Exponential of 1: \", np.exp(1))\n",
    "print(\"Exponential of 0: \", np.exp(0))\n",
    "print(\"Natural logarithm of 10: \", np.log(10)) # \"log\" refers to the natural logarithm\n",
    "print(\"Base 10 logarithm of 10: \", np.log10(10)) # \"log10\" refers to the logarithm of base 10"
   ]
  },
  {
   "cell_type": "markdown",
   "metadata": {
    "id": "P6FHludIglgC"
   },
   "source": [
    "### Trigonometric functions\n",
    "\n",
    "#### Definitions\n",
    "\n",
    "The trigonometric functions $\\cos(\\theta)$, $\\sin(\\theta)$ and $\\tan(\\theta)$, can be defined thanks to the unit circle :\n",
    "\n",
    "![The unit circle](https://julie-online-courses.s3.eu-west-3.amazonaws.com/Calculus/unit_circle.svg)\n",
    "\n",
    "#### Angle measure\n",
    "\n",
    "The measure of an angle can be expressed either in degrees or in radians : $\\pi$ rad = 180°\n",
    "\n",
    "<img src=\"https://julie-online-courses.s3.eu-west-3.amazonaws.com/Calculus/degrees_radians.png\" width=\"600\"/>\n",
    "\n",
    "#### Common values\n",
    "\n",
    "The table below shows some very common values of the trigonometric functions for different angles :\n",
    "\n",
    "|  $\\theta$ (°)  |  0  |          45          |       90        |  180  |  360   |\n",
    "| :------------: | :-: | :------------------: | :-------------: | :---: | :----: |\n",
    "| $\\theta$ (rad) |  0  |   $\\frac{\\pi}{4}$    | $\\frac{\\pi}{2}$ | $\\pi$ | $2\\pi$ |\n",
    "| $\\sin(\\theta)$ |  0  | $\\frac{1}{\\sqrt{2}}$ |        1        |   0   |   0    |\n",
    "| $\\cos(\\theta)$ |  1  | $\\frac{1}{\\sqrt{2}}$ |        0        |  -1   |   1    |\n",
    "| $\\tan(\\theta)$ |  0  |          1           |   not defined   |   0   |   0    |\n",
    "\n",
    "#### Graphical representation\n",
    "\n",
    "The functions $\\cos(\\theta)$, $\\sin(\\theta)$ and $\\tan(\\theta)$ are represented below, as a function of the angle measure expressed in radians :\n",
    "\n",
    "<img src=\"https://julie-online-courses.s3.eu-west-3.amazonaws.com/Calculus/sin_cos_tan.png\" width=\"600\"/>"
   ]
  },
  {
   "cell_type": "code",
   "execution_count": 38,
   "metadata": {
    "colab": {
     "base_uri": "https://localhost:8080/"
    },
    "executionInfo": {
     "elapsed": 25,
     "status": "ok",
     "timestamp": 1698775254885,
     "user": {
      "displayName": "Aurélie Mutschler",
      "userId": "09486760454547044843"
     },
     "user_tz": -60
    },
    "id": "1K4548dYf_0w",
    "outputId": "3369602c-9ef9-452d-b6bd-28f51a26b958"
   },
   "outputs": [
    {
     "name": "stdout",
     "output_type": "stream",
     "text": [
      "Cosinus of 0:  1.0\n",
      "Cosinus of pi:  -1.0\n",
      "Cosinus of pi/2:  0.0\n",
      "\n",
      "Sinus of 0:  0.0\n",
      "Sinus of pi:  0.0\n",
      "Sinus of pi/2:  1.0\n",
      "\n",
      "Tan of 0:  0.0\n",
      "Tan of pi:  -0.0\n",
      "Tan of pi/2:  1.633123935319537e+16\n",
      "\n"
     ]
    }
   ],
   "source": [
    "# Examples with numpy\n",
    "print(\"Cosinus of 0: \", np.cos(0))\n",
    "print(\"Cosinus of pi: \", np.cos(np.pi))\n",
    "print(\"Cosinus of pi/2: \", np.cos(np.pi/2).round(2))\n",
    "print()\n",
    "print(\"Sinus of 0: \", np.sin(0))\n",
    "print(\"Sinus of pi: \", np.sin(np.pi).round(2))\n",
    "print(\"Sinus of pi/2: \", np.sin(np.pi/2))\n",
    "print()\n",
    "print(\"Tan of 0: \", np.tan(0))\n",
    "print(\"Tan of pi: \", np.tan(np.pi).round(2))\n",
    "print(\"Tan of pi/2: \", np.tan(np.pi/2)) # this will diverge !\n",
    "print()"
   ]
  },
  {
   "cell_type": "markdown",
   "metadata": {
    "id": "tMbU-zj1qyoM"
   },
   "source": [
    "## Random numbers\n",
    "\n",
    "The [numpy.random](https://numpy.org/doc/stable/reference/random/generator.html) module implements pseudo-random number generators with the ability to draw samples from a variety of probability distributions.\n",
    "\n",
    "🤓 At this point, you're supposed to be familiar with most common probability distributions. If it's not the case, please have a look at [the probability prep-work](https://app.jedha.co/course/laws-of-probability/) 😉\n",
    "\n",
    "There are many useful random distributions available in Numpy. Some of them concern discrete variables, other concern continuous variables (we will talk about it more in details tomorrow!).\n",
    "\n",
    "Among them, the most famous is the [Normal distribution](https://app.jedha.co/course/laws-of-probability/normal-law).\n",
    "\n",
    "### Random distributions for discrete variables\n",
    "#### Discrete uniform distribution\n",
    "The discrete uniform distribution is a probability distribution wherein a finite number of values are equally likely to be observed."
   ]
  },
  {
   "cell_type": "code",
   "execution_count": 39,
   "metadata": {
    "colab": {
     "base_uri": "https://localhost:8080/"
    },
    "executionInfo": {
     "elapsed": 22,
     "status": "ok",
     "timestamp": 1698775254885,
     "user": {
      "displayName": "Aurélie Mutschler",
      "userId": "09486760454547044843"
     },
     "user_tz": -60
    },
    "id": "lBJntZw3qzJN",
    "outputId": "bc6ace52-30d6-4398-8348-a238167dbd1f"
   },
   "outputs": [
    {
     "name": "stdout",
     "output_type": "stream",
     "text": [
      "Sample of 30 random values drawn from a discrete uniform distribution on [0, 10]: \n",
      "[0 2 6 6 3 0 4 0 0 5 7 0 9 9 5 1 1 7 9 4 3 8 1 8 8 8 1 8 8 5]\n",
      "\n",
      "Sample of 20 random values drawn from a discrete uniform distribution on [-2, 2]: \n",
      "[-1 -2  1 -2  1 -2  1 -2  1  1 -2  1 -2 -1  1  1 -1  0 -1  0]\n",
      "\n"
     ]
    }
   ],
   "source": [
    "print(\"Sample of 30 random values drawn from a discrete uniform distribution on [0, 10]: \")\n",
    "print(np.random.randint(0, 10, 30))\n",
    "print()\n",
    "print(\"Sample of 20 random values drawn from a discrete uniform distribution on [-2, 2]: \")\n",
    "print(np.random.randint(-2, 2, 20))\n",
    "print()"
   ]
  },
  {
   "cell_type": "markdown",
   "metadata": {
    "id": "RADXRaE4wvMG"
   },
   "source": [
    "### Probability densities for continuous variables\n",
    "#### Uniform distribution\n",
    "The continuous uniform distributions are a family of probability distributions that describe an experiment where there is an arbitrary outcome that lies between certain bounds. The bounds are defined by the parameters a and b which are the minimum and maximum values."
   ]
  },
  {
   "cell_type": "code",
   "execution_count": 40,
   "metadata": {
    "colab": {
     "base_uri": "https://localhost:8080/"
    },
    "executionInfo": {
     "elapsed": 21,
     "status": "ok",
     "timestamp": 1698775254887,
     "user": {
      "displayName": "Aurélie Mutschler",
      "userId": "09486760454547044843"
     },
     "user_tz": -60
    },
    "id": "uhdfNGpavptK",
    "outputId": "2be8dddd-c833-4e0e-eaf5-306dc6621bd3"
   },
   "outputs": [
    {
     "name": "stdout",
     "output_type": "stream",
     "text": [
      "Sample of 30 random values drawn from a uniform distribution on [a,b] = [0, 10]:\n",
      "[0.82750428 3.38677048 3.95927975 2.46981681 5.46953577 6.3787216\n",
      " 4.96537912 5.96881302 7.84262231 4.95805596 6.66812402 3.30960884\n",
      " 1.11950807 4.88750778 0.57970846 3.56184548 5.86730508 9.94854216\n",
      " 7.92448906 1.25225311 7.05605138 4.65350554 0.79564773 7.8127879\n",
      " 9.3048898  3.71237868 8.97449654 1.64018738 2.38875475 8.2936794 ]\n",
      "\n",
      "Sample of 20 random values drawn from a uniform distribution on [a,b] = [-5, 5]:\n",
      "[-3.41074724 -1.9825952  -3.79960864  4.79676238  2.21430504 -3.9093409\n",
      " -0.6513236   1.43541511  1.0245383  -0.87043059  0.77991957 -1.34268637\n",
      "  2.26314664  3.72723536  4.69388786 -3.30762011  2.01820353  0.47767705\n",
      "  1.66807266 -3.03233116]\n"
     ]
    }
   ],
   "source": [
    "print(\"Sample of 30 random values drawn from a uniform distribution on [a,b] = [0, 10]:\")\n",
    "print(np.random.uniform(0, 10, 30))\n",
    "print()\n",
    "print(\"Sample of 20 random values drawn from a uniform distribution on [a,b] = [-5, 5]:\")\n",
    "print(np.random.uniform(-5, 5, 20))"
   ]
  },
  {
   "cell_type": "markdown",
   "metadata": {
    "id": "A8aT7E1px6Xy"
   },
   "source": [
    "#### Normal distribution\n",
    "A normal distribution or Gaussian distribution is a type of continuous probability distribution for a real-valued random variable. The normal distribution follows a Gaussian function:\n",
    "$$\n",
    "f(x) = \\frac{1}{\\sigma \\sqrt{2\\pi}}e^{-\\frac{1}{2}(\\frac{x-\\mu}{\\sigma })^{2}}\n",
    "$$\n",
    "\n",
    "Where:\n",
    "* $\\mu$ is the center (mean) of the distribution\n",
    "* $\\sigma$ is the standard deviation of the distribution\n",
    "\n",
    "Graphically, this function corresponds to the well-known [bell curve](https://en.wikipedia.org/wiki/Bell_curve).\n",
    "\n",
    "💡In next day's lesson, concepts such as distributions, mean and standard deviation will be discussed more in details.\n",
    "\n"
   ]
  },
  {
   "cell_type": "code",
   "execution_count": 41,
   "metadata": {
    "colab": {
     "base_uri": "https://localhost:8080/"
    },
    "executionInfo": {
     "elapsed": 17,
     "status": "ok",
     "timestamp": 1698775254887,
     "user": {
      "displayName": "Aurélie Mutschler",
      "userId": "09486760454547044843"
     },
     "user_tz": -60
    },
    "id": "AFMngMOow062",
    "outputId": "dabb6e0b-e0c6-4e2f-de80-2dbb19b9e1f2"
   },
   "outputs": [
    {
     "name": "stdout",
     "output_type": "stream",
     "text": [
      "Sample of 20 random values drawn from a normal distribution of mean 5 and std 2:\n",
      "[ 4.1596338   7.00164779 -1.38202488  0.66700433  3.41625073  5.05040703\n",
      "  7.74787542  7.0872143   4.95288051  5.26506222  3.88401735  6.92296031\n",
      "  2.75496881  3.37347805  6.26958421  2.30497433  6.02513451  7.39623852\n",
      "  3.00138723  7.18778494]\n"
     ]
    }
   ],
   "source": [
    "print(\"Sample of 20 random values drawn from a normal distribution of mean 5 and std 2:\")\n",
    "print(np.random.normal(5, 2, 20))"
   ]
  },
  {
   "cell_type": "markdown",
   "metadata": {
    "id": "zHE1c1YoyFsB"
   },
   "source": [
    "#### Standard normal distribution\n",
    "The standard normal distribution is a special case where:\n",
    "* $\\mu = 0$\n",
    "* $\\sigma = 1$\n",
    "\n",
    "Here is an illustration of the standard normal distribution:\n",
    "![](https://essentials-assets.s3.eu-west-3.amazonaws.com/M03-Python_programming_and_statistics/D01-Introduction_to_python_and_statistics/normal_distribution.png)"
   ]
  },
  {
   "cell_type": "code",
   "execution_count": 42,
   "metadata": {
    "colab": {
     "base_uri": "https://localhost:8080/"
    },
    "executionInfo": {
     "elapsed": 14,
     "status": "ok",
     "timestamp": 1698775254887,
     "user": {
      "displayName": "Aurélie Mutschler",
      "userId": "09486760454547044843"
     },
     "user_tz": -60
    },
    "id": "22kplrzayIWk",
    "outputId": "c2ce3642-8317-4446-9b6d-13f581b2fbfc"
   },
   "outputs": [
    {
     "name": "stdout",
     "output_type": "stream",
     "text": [
      "Sample of 30 random values drawn from a standard normal distribution:\n",
      "[-0.24437337  1.5988682   0.55924682 -1.19075233  1.59578161  1.34502929\n",
      " -1.08168854 -1.13939841 -0.01679011  0.63453906 -0.87754844 -0.21158128\n",
      "  0.40889953  0.77403961 -0.53776054 -0.37129054  0.3128841  -0.03721938\n",
      " -0.13816808  0.51452911  1.97842638  0.65840039 -0.16927238  1.69134545\n",
      "  1.3657637   0.8611879   0.61894346 -0.66083151  0.62087584  0.68534068]\n"
     ]
    }
   ],
   "source": [
    "print(\"Sample of 30 random values drawn from a standard normal distribution:\")\n",
    "print(np.random.standard_normal(30))"
   ]
  }
 ],
 "metadata": {
  "colab": {
   "collapsed_sections": [
    "naZ4shGawnPd",
    "4rMXnMjqHf9L"
   ],
   "provenance": []
  },
  "kernelspec": {
   "display_name": "Python 3 (ipykernel)",
   "language": "python",
   "name": "python3"
  },
  "language_info": {
   "codemirror_mode": {
    "name": "ipython",
    "version": 3
   },
   "file_extension": ".py",
   "mimetype": "text/x-python",
   "name": "python",
   "nbconvert_exporter": "python",
   "pygments_lexer": "ipython3",
   "version": "3.12.7"
  },
  "vscode": {
   "interpreter": {
    "hash": "16196ea7eff63910081d4e10ae1bdb1eb18fd83cb470bb8efbb9fa6b0c724af5"
   }
  }
 },
 "nbformat": 4,
 "nbformat_minor": 4
}
