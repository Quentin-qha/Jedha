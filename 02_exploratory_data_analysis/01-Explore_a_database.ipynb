{
 "cells": [
  {
   "cell_type": "markdown",
   "metadata": {
    "id": "_Ms8YpIPGyS_"
   },
   "source": [
    "# Exploring a database\n",
    "\n",
    "Let's practice on Pandas. Download the dataset `chipotle.csv` from JULIE and upload it to your notebook.\n",
    "\n",
    "<Note type=\"note\">\n",
    "\n",
    "You can use whatever suits you best : Jupyter Lab locally, [Google Colab](https://colab.research.google.com/?hl=fr) or you can also subscribe to [JULIE's workstations](https://app.jedha.co/workspace) in which Jupyter and all the tools needed to do Data Science are installed.\n",
    "\n",
    "</Note>"
   ]
  },
  {
   "cell_type": "markdown",
   "metadata": {
    "id": "LvMgNswfHEzY"
   },
   "source": [
    "1. Import a library that allows to read data from a csv file"
   ]
  },
  {
   "cell_type": "code",
   "execution_count": 2,
   "metadata": {
    "id": "QsXLkarjGliO"
   },
   "outputs": [],
   "source": [
    "import pandas as pd"
   ]
  },
  {
   "cell_type": "markdown",
   "metadata": {
    "id": "NKk3ML60HHb2"
   },
   "source": [
    "2. Import the dataset"
   ]
  },
  {
   "cell_type": "code",
   "execution_count": 4,
   "metadata": {
    "id": "JB8e9ggZHGqZ"
   },
   "outputs": [],
   "source": [
    "df = pd.read_csv(\"chipotle.csv\")"
   ]
  },
  {
   "cell_type": "markdown",
   "metadata": {
    "id": "8AW0R2K_SfmQ"
   },
   "source": [
    "3. Look at the 10 first rows in the dataset"
   ]
  },
  {
   "cell_type": "code",
   "execution_count": 6,
   "metadata": {
    "colab": {
     "base_uri": "https://localhost:8080/",
     "height": 363
    },
    "executionInfo": {
     "elapsed": 85,
     "status": "ok",
     "timestamp": 1699027826576,
     "user": {
      "displayName": "Aurélie Mutschler",
      "userId": "09486760454547044843"
     },
     "user_tz": -60
    },
    "id": "WDrMSca_Jjpb",
    "outputId": "5d007891-b40d-4ff7-89db-a1b1c522870c"
   },
   "outputs": [
    {
     "data": {
      "text/html": [
       "<div>\n",
       "<style scoped>\n",
       "    .dataframe tbody tr th:only-of-type {\n",
       "        vertical-align: middle;\n",
       "    }\n",
       "\n",
       "    .dataframe tbody tr th {\n",
       "        vertical-align: top;\n",
       "    }\n",
       "\n",
       "    .dataframe thead th {\n",
       "        text-align: right;\n",
       "    }\n",
       "</style>\n",
       "<table border=\"1\" class=\"dataframe\">\n",
       "  <thead>\n",
       "    <tr style=\"text-align: right;\">\n",
       "      <th></th>\n",
       "      <th>Unnamed: 0</th>\n",
       "      <th>order_id</th>\n",
       "      <th>quantity</th>\n",
       "      <th>item_name</th>\n",
       "      <th>choice_description</th>\n",
       "      <th>item_price</th>\n",
       "    </tr>\n",
       "  </thead>\n",
       "  <tbody>\n",
       "    <tr>\n",
       "      <th>0</th>\n",
       "      <td>0</td>\n",
       "      <td>1</td>\n",
       "      <td>1</td>\n",
       "      <td>Chips and Fresh Tomato Salsa</td>\n",
       "      <td>NaN</td>\n",
       "      <td>$2.39</td>\n",
       "    </tr>\n",
       "    <tr>\n",
       "      <th>1</th>\n",
       "      <td>1</td>\n",
       "      <td>1</td>\n",
       "      <td>1</td>\n",
       "      <td>Izze</td>\n",
       "      <td>[Clementine]</td>\n",
       "      <td>$3.39</td>\n",
       "    </tr>\n",
       "    <tr>\n",
       "      <th>2</th>\n",
       "      <td>2</td>\n",
       "      <td>1</td>\n",
       "      <td>1</td>\n",
       "      <td>Nantucket Nectar</td>\n",
       "      <td>[Apple]</td>\n",
       "      <td>$3.39</td>\n",
       "    </tr>\n",
       "    <tr>\n",
       "      <th>3</th>\n",
       "      <td>3</td>\n",
       "      <td>1</td>\n",
       "      <td>1</td>\n",
       "      <td>Chips and Tomatillo-Green Chili Salsa</td>\n",
       "      <td>NaN</td>\n",
       "      <td>$2.39</td>\n",
       "    </tr>\n",
       "    <tr>\n",
       "      <th>4</th>\n",
       "      <td>4</td>\n",
       "      <td>2</td>\n",
       "      <td>2</td>\n",
       "      <td>Chicken Bowl</td>\n",
       "      <td>[Tomatillo-Red Chili Salsa (Hot), [Black Beans...</td>\n",
       "      <td>$16.98</td>\n",
       "    </tr>\n",
       "    <tr>\n",
       "      <th>5</th>\n",
       "      <td>5</td>\n",
       "      <td>3</td>\n",
       "      <td>1</td>\n",
       "      <td>Chicken Bowl</td>\n",
       "      <td>[Fresh Tomato Salsa (Mild), [Rice, Cheese, Sou...</td>\n",
       "      <td>$10.98</td>\n",
       "    </tr>\n",
       "    <tr>\n",
       "      <th>6</th>\n",
       "      <td>6</td>\n",
       "      <td>3</td>\n",
       "      <td>1</td>\n",
       "      <td>Side of Chips</td>\n",
       "      <td>NaN</td>\n",
       "      <td>$1.69</td>\n",
       "    </tr>\n",
       "    <tr>\n",
       "      <th>7</th>\n",
       "      <td>7</td>\n",
       "      <td>4</td>\n",
       "      <td>1</td>\n",
       "      <td>Steak Burrito</td>\n",
       "      <td>[Tomatillo Red Chili Salsa, [Fajita Vegetables...</td>\n",
       "      <td>$11.75</td>\n",
       "    </tr>\n",
       "    <tr>\n",
       "      <th>8</th>\n",
       "      <td>8</td>\n",
       "      <td>4</td>\n",
       "      <td>1</td>\n",
       "      <td>Steak Soft Tacos</td>\n",
       "      <td>[Tomatillo Green Chili Salsa, [Pinto Beans, Ch...</td>\n",
       "      <td>$9.25</td>\n",
       "    </tr>\n",
       "    <tr>\n",
       "      <th>9</th>\n",
       "      <td>9</td>\n",
       "      <td>5</td>\n",
       "      <td>1</td>\n",
       "      <td>Steak Burrito</td>\n",
       "      <td>[Fresh Tomato Salsa, [Rice, Black Beans, Pinto...</td>\n",
       "      <td>$9.25</td>\n",
       "    </tr>\n",
       "  </tbody>\n",
       "</table>\n",
       "</div>"
      ],
      "text/plain": [
       "   Unnamed: 0  order_id  quantity                              item_name  \\\n",
       "0           0         1         1           Chips and Fresh Tomato Salsa   \n",
       "1           1         1         1                                   Izze   \n",
       "2           2         1         1                       Nantucket Nectar   \n",
       "3           3         1         1  Chips and Tomatillo-Green Chili Salsa   \n",
       "4           4         2         2                           Chicken Bowl   \n",
       "5           5         3         1                           Chicken Bowl   \n",
       "6           6         3         1                          Side of Chips   \n",
       "7           7         4         1                          Steak Burrito   \n",
       "8           8         4         1                       Steak Soft Tacos   \n",
       "9           9         5         1                          Steak Burrito   \n",
       "\n",
       "                                  choice_description item_price  \n",
       "0                                                NaN     $2.39   \n",
       "1                                       [Clementine]     $3.39   \n",
       "2                                            [Apple]     $3.39   \n",
       "3                                                NaN     $2.39   \n",
       "4  [Tomatillo-Red Chili Salsa (Hot), [Black Beans...    $16.98   \n",
       "5  [Fresh Tomato Salsa (Mild), [Rice, Cheese, Sou...    $10.98   \n",
       "6                                                NaN     $1.69   \n",
       "7  [Tomatillo Red Chili Salsa, [Fajita Vegetables...    $11.75   \n",
       "8  [Tomatillo Green Chili Salsa, [Pinto Beans, Ch...     $9.25   \n",
       "9  [Fresh Tomato Salsa, [Rice, Black Beans, Pinto...     $9.25   "
      ]
     },
     "execution_count": 6,
     "metadata": {},
     "output_type": "execute_result"
    }
   ],
   "source": [
    "df.head(10)"
   ]
  },
  {
   "cell_type": "markdown",
   "metadata": {
    "id": "CigrlkmiSm0c"
   },
   "source": [
    "4. What is the shape of the dataset ?"
   ]
  },
  {
   "cell_type": "code",
   "execution_count": 8,
   "metadata": {
    "colab": {
     "base_uri": "https://localhost:8080/"
    },
    "executionInfo": {
     "elapsed": 83,
     "status": "ok",
     "timestamp": 1699027826577,
     "user": {
      "displayName": "Aurélie Mutschler",
      "userId": "09486760454547044843"
     },
     "user_tz": -60
    },
    "id": "k0LBkKq1Sitw",
    "outputId": "0d614a94-75bb-4fe2-8f8a-1a0cd0e51feb"
   },
   "outputs": [
    {
     "data": {
      "text/plain": [
       "(4622, 6)"
      ]
     },
     "execution_count": 8,
     "metadata": {},
     "output_type": "execute_result"
    }
   ],
   "source": [
    "df.shape"
   ]
  },
  {
   "cell_type": "markdown",
   "metadata": {
    "id": "qTQmFxC_SsvY"
   },
   "source": [
    "5. Display all the columns of our dataset"
   ]
  },
  {
   "cell_type": "code",
   "execution_count": 14,
   "metadata": {
    "colab": {
     "base_uri": "https://localhost:8080/"
    },
    "executionInfo": {
     "elapsed": 81,
     "status": "ok",
     "timestamp": 1699027826577,
     "user": {
      "displayName": "Aurélie Mutschler",
      "userId": "09486760454547044843"
     },
     "user_tz": -60
    },
    "id": "1CnkQ4I3So3y",
    "outputId": "b8cc30f1-0649-416b-eedf-8fa81108969c"
   },
   "outputs": [
    {
     "data": {
      "text/plain": [
       "Index(['Unnamed: 0', 'order_id', 'quantity', 'item_name', 'choice_description',\n",
       "       'item_price'],\n",
       "      dtype='object')"
      ]
     },
     "execution_count": 14,
     "metadata": {},
     "output_type": "execute_result"
    }
   ],
   "source": [
    "df.columns"
   ]
  },
  {
   "cell_type": "markdown",
   "metadata": {
    "id": "UJAPY36pS72O"
   },
   "source": [
    "6. How many items were ordered from Chipotle in total?"
   ]
  },
  {
   "cell_type": "code",
   "execution_count": 133,
   "metadata": {
    "colab": {
     "base_uri": "https://localhost:8080/"
    },
    "executionInfo": {
     "elapsed": 76,
     "status": "ok",
     "timestamp": 1699027826577,
     "user": {
      "displayName": "Aurélie Mutschler",
      "userId": "09486760454547044843"
     },
     "user_tz": -60
    },
    "id": "Rcryb5pzS4nM",
    "outputId": "cfd969b2-abaa-4599-8616-4dd0e744c8af"
   },
   "outputs": [
    {
     "data": {
      "text/plain": [
       "4972"
      ]
     },
     "execution_count": 133,
     "metadata": {},
     "output_type": "execute_result"
    }
   ],
   "source": [
    "df[\"quantity\"].sum()"
   ]
  },
  {
   "cell_type": "markdown",
   "metadata": {
    "id": "r0V66-boSwK9"
   },
   "source": [
    "7. What is the most ordered item?\n",
    "\n",
    "*Hint* 🤓\n",
    "* Use `.groupby()` with a relevant aggregation function\n",
    "* Then you can use `.sort_values()` to sort the results"
   ]
  },
  {
   "cell_type": "code",
   "execution_count": 57,
   "metadata": {
    "colab": {
     "base_uri": "https://localhost:8080/"
    },
    "executionInfo": {
     "elapsed": 73,
     "status": "ok",
     "timestamp": 1699027826577,
     "user": {
      "displayName": "Aurélie Mutschler",
      "userId": "09486760454547044843"
     },
     "user_tz": -60
    },
    "id": "6-TCtZBHHa2X",
    "outputId": "b1e83c6f-c595-41b3-e078-a33fe0a61cde"
   },
   "outputs": [
    {
     "data": {
      "text/plain": [
       "item_name\n",
       "Chicken Bowl                             761\n",
       "Chicken Burrito                          591\n",
       "Chips and Guacamole                      506\n",
       "Steak Burrito                            386\n",
       "Canned Soft Drink                        351\n",
       "Chips                                    230\n",
       "Steak Bowl                               221\n",
       "Bottled Water                            211\n",
       "Chips and Fresh Tomato Salsa             130\n",
       "Canned Soda                              126\n",
       "Chicken Salad Bowl                       123\n",
       "Chicken Soft Tacos                       120\n",
       "Side of Chips                            110\n",
       "Veggie Burrito                            97\n",
       "Barbacoa Burrito                          91\n",
       "Veggie Bowl                               87\n",
       "Carnitas Bowl                             71\n",
       "Barbacoa Bowl                             66\n",
       "Carnitas Burrito                          60\n",
       "Steak Soft Tacos                          56\n",
       "6 Pack Soft Drink                         55\n",
       "Chips and Tomatillo Red Chili Salsa       50\n",
       "Chicken Crispy Tacos                      50\n",
       "Chips and Tomatillo Green Chili Salsa     45\n",
       "Carnitas Soft Tacos                       40\n",
       "Steak Crispy Tacos                        36\n",
       "Chips and Tomatillo-Green Chili Salsa     33\n",
       "Steak Salad Bowl                          31\n",
       "Nantucket Nectar                          29\n",
       "Chips and Tomatillo-Red Chili Salsa       25\n",
       "Barbacoa Soft Tacos                       25\n",
       "Chips and Roasted Chili Corn Salsa        23\n",
       "Izze                                      20\n",
       "Veggie Salad Bowl                         18\n",
       "Chips and Roasted Chili-Corn Salsa        18\n",
       "Barbacoa Crispy Tacos                     12\n",
       "Barbacoa Salad Bowl                       10\n",
       "Chicken Salad                              9\n",
       "Carnitas Crispy Tacos                      8\n",
       "Veggie Soft Tacos                          8\n",
       "Burrito                                    6\n",
       "Veggie Salad                               6\n",
       "Carnitas Salad Bowl                        6\n",
       "Bowl                                       4\n",
       "Steak Salad                                4\n",
       "Salad                                      2\n",
       "Crispy Tacos                               2\n",
       "Chips and Mild Fresh Tomato Salsa          1\n",
       "Carnitas Salad                             1\n",
       "Veggie Crispy Tacos                        1\n",
       "Name: quantity, dtype: int64"
      ]
     },
     "metadata": {},
     "output_type": "display_data"
    }
   ],
   "source": [
    "display(df.groupby(\"item_name\")[\"quantity\"].sum().sort_values(ascending=False))"
   ]
  },
  {
   "cell_type": "markdown",
   "metadata": {
    "id": "vxfXtm-yTA-T"
   },
   "source": [
    "8. How much revenue has Chipotle made?\n",
    "      \n",
    "A. Convert item_price to a decimal number.\n",
    "* Look at column [\"item_price\"], what do you see?\n",
    "* Let's find a way to get that $ out of our way. Remember the `.str` submodule can help you 😉\n",
    "* Let's now convert the series to float instead of string, by using `.astype('float')`.\n",
    "        \n",
    "B. Multiply the quantity sold by the price of the item.\n",
    "    \n",
    "C. Add it all up, how much do you find?"
   ]
  },
  {
   "cell_type": "code",
   "execution_count": 135,
   "metadata": {
    "id": "Uz3qcQe8Ie2J"
   },
   "outputs": [
    {
     "data": {
      "text/plain": [
       "item_name\n",
       "Chicken Bowl                             8044.63\n",
       "Chicken Burrito                          6387.06\n",
       "Steak Burrito                            4236.13\n",
       "Steak Bowl                               2479.81\n",
       "Chips and Guacamole                      2475.62\n",
       "Chicken Salad Bowl                       1506.25\n",
       "Chicken Soft Tacos                       1199.01\n",
       "Chips and Fresh Tomato Salsa             1033.96\n",
       "Veggie Burrito                           1002.27\n",
       "Veggie Bowl                               901.95\n",
       "Barbacoa Burrito                          894.75\n",
       "Carnitas Bowl                             830.71\n",
       "Barbacoa Bowl                             672.36\n",
       "Bottled Water                             649.18\n",
       "Carnitas Burrito                          616.33\n",
       "Canned Soft Drink                         603.75\n",
       "Chips                                     580.34\n",
       "Steak Soft Tacos                          554.55\n",
       "Chicken Crispy Tacos                      524.11\n",
       "Steak Salad Bowl                          391.15\n",
       "Carnitas Soft Tacos                       375.94\n",
       "Steak Crispy Tacos                        375.32\n",
       "6 Pack Soft Drink                         369.93\n",
       "Side of Chips                             290.68\n",
       "Barbacoa Soft Tacos                       250.46\n",
       "Canned Soda                               191.84\n",
       "Veggie Salad Bowl                         182.50\n",
       "Chips and Tomatillo Red Chili Salsa       159.30\n",
       "Chips and Tomatillo Green Chili Salsa     144.55\n",
       "Barbacoa Crispy Tacos                     138.71\n",
       "Nantucket Nectar                          111.87\n",
       "Barbacoa Salad Bowl                       106.40\n",
       "Carnitas Crispy Tacos                      95.94\n",
       "Chips and Tomatillo-Red Chili Salsa        93.21\n",
       "Veggie Soft Tacos                          90.94\n",
       "Chips and Tomatillo-Green Chili Salsa      88.43\n",
       "Chicken Salad                              81.09\n",
       "Bowl                                       74.00\n",
       "Chips and Roasted Chili Corn Salsa         73.75\n",
       "Izze                                       67.80\n",
       "Carnitas Salad Bowl                        66.34\n",
       "Veggie Salad                               50.94\n",
       "Burrito                                    44.40\n",
       "Chips and Roasted Chili-Corn Salsa         43.02\n",
       "Steak Salad                                35.66\n",
       "Crispy Tacos                               14.80\n",
       "Salad                                      14.80\n",
       "Carnitas Salad                              8.99\n",
       "Veggie Crispy Tacos                         8.49\n",
       "Chips and Mild Fresh Tomato Salsa           3.00\n",
       "Name: total_price, dtype: float64"
      ]
     },
     "metadata": {},
     "output_type": "display_data"
    }
   ],
   "source": [
    "#df_price_nbr = float(df[\"item_price\"].str.slice(start=\"1\"))\n",
    "\n",
    "df[\"item_price\"] = df[\"item_price\"].str.replace(\"$\", \"\", regex=False).astype(float)\n",
    "df[\"total_price\"] = df[\"quantity\"] * df[\"item_price_float\"]\n",
    "df.head(50)\n",
    "\n",
    "display(df.groupby(\"item_name\")[\"total_price\"].sum().sort_values(ascending=False))"
   ]
  },
  {
   "cell_type": "code",
   "execution_count": 117,
   "metadata": {
    "colab": {
     "base_uri": "https://localhost:8080/"
    },
    "executionInfo": {
     "elapsed": 66,
     "status": "ok",
     "timestamp": 1699027826577,
     "user": {
      "displayName": "Aurélie Mutschler",
      "userId": "09486760454547044843"
     },
     "user_tz": -60
    },
    "id": "feBCIbx1JiF8",
    "outputId": "a9c7b22b-b272-4bef-e1dc-778445e11c86"
   },
   "outputs": [
    {
     "data": {
      "text/plain": [
       "39237.02"
      ]
     },
     "execution_count": 117,
     "metadata": {},
     "output_type": "execute_result"
    }
   ],
   "source": [
    "df[\"total_price\"].sum()"
   ]
  },
  {
   "cell_type": "markdown",
   "metadata": {
    "id": "Zs3kl41oTvMt"
   },
   "source": [
    "9. What is the average revenue per order?"
   ]
  },
  {
   "cell_type": "code",
   "execution_count": 127,
   "metadata": {
    "colab": {
     "base_uri": "https://localhost:8080/"
    },
    "executionInfo": {
     "elapsed": 63,
     "status": "ok",
     "timestamp": 1699027826578,
     "user": {
      "displayName": "Aurélie Mutschler",
      "userId": "09486760454547044843"
     },
     "user_tz": -60
    },
    "id": "V1uBVuU-Tjk_",
    "outputId": "e7a3f31d-9877-406a-80c7-7eb35a440ce1"
   },
   "outputs": [
    {
     "data": {
      "text/plain": [
       "8.48918649935093"
      ]
     },
     "execution_count": 127,
     "metadata": {},
     "output_type": "execute_result"
    }
   ],
   "source": [
    "df[\"total_price\"].mean()"
   ]
  },
  {
   "cell_type": "code",
   "execution_count": 129,
   "metadata": {},
   "outputs": [
    {
     "name": "stdout",
     "output_type": "stream",
     "text": [
      "21.39423118865867\n"
     ]
    }
   ],
   "source": [
    "revenu_par_commande = df.groupby(\"order_id\")[\"total_price\"].sum()\n",
    "revenu_moyen = revenu_par_commande.mean()\n",
    "\n",
    "print(revenu_moyen)"
   ]
  },
  {
   "cell_type": "code",
   "execution_count": 131,
   "metadata": {},
   "outputs": [
    {
     "data": {
      "text/plain": [
       "order_id\n",
       "1       11.56\n",
       "2       33.96\n",
       "3       12.67\n",
       "4       21.00\n",
       "5       13.70\n",
       "        ...  \n",
       "1830    23.00\n",
       "1831    12.90\n",
       "1832    13.20\n",
       "1833    23.50\n",
       "1834    28.75\n",
       "Name: total_price, Length: 1834, dtype: float64"
      ]
     },
     "execution_count": 131,
     "metadata": {},
     "output_type": "execute_result"
    }
   ],
   "source": [
    "df.groupby(\"order_id\")[\"total_price\"].sum()"
   ]
  },
  {
   "cell_type": "code",
   "execution_count": null,
   "metadata": {},
   "outputs": [],
   "source": []
  }
 ],
 "metadata": {
  "colab": {
   "provenance": []
  },
  "kernelspec": {
   "display_name": "Python 3 (ipykernel)",
   "language": "python",
   "name": "python3"
  },
  "language_info": {
   "codemirror_mode": {
    "name": "ipython",
    "version": 3
   },
   "file_extension": ".py",
   "mimetype": "text/x-python",
   "name": "python",
   "nbconvert_exporter": "python",
   "pygments_lexer": "ipython3",
   "version": "3.12.7"
  },
  "vscode": {
   "interpreter": {
    "hash": "fbc4d3870518eee81184ced0d2279c769a0eca59aab465c4e7ec13e5e6c47a3e"
   }
  }
 },
 "nbformat": 4,
 "nbformat_minor": 4
}
