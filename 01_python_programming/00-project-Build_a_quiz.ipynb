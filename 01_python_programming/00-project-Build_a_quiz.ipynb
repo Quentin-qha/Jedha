{
 "cells": [
  {
   "cell_type": "markdown",
   "metadata": {
    "colab_type": "text",
    "id": "FY347VxWs_bJ"
   },
   "source": [
    "# Build a quizz\n",
    "\n",
    "---\n",
    "\n",
    "\n"
   ]
  },
  {
   "cell_type": "markdown",
   "metadata": {
    "colab_type": "text",
    "id": "qJizpyqVwYnF"
   },
   "source": [
    "Let's tackle our first project together. Find a partner and start coding a quiz together! Your program should: \n",
    "\n",
    "1. Ask a question to a user via the console \n",
    "2. Verify whether the answer is correct or not \n",
    "3. If the answer is correct, you should print out: `Good job! This is the right answer`\n",
    "\n",
    "* Else, it should print out : `Too bad! that is not the correct answer`\n",
    "\n",
    "4. Ask three questions following this model.\n",
    "\n"
   ]
  },
  {
   "cell_type": "code",
   "execution_count": 1,
   "metadata": {
    "colab": {
     "base_uri": "https://localhost:8080/",
     "height": 136
    },
    "colab_type": "code",
    "id": "EQxWuVl7yFoU",
    "outputId": "cf3ee10c-9d8f-4d96-82b0-f730321d4a2f"
   },
   "outputs": [
    {
     "name": "stdin",
     "output_type": "stream",
     "text": [
      "What's the name of Napoleon? n\n",
      "My favorite number ? n\n",
      "What's the color of my cat? n\n"
     ]
    }
   ],
   "source": [
    "quizz = [\n",
    "    {\n",
    "        \"question\" : \"What's the name of Napoleon?\", \n",
    "        \"answer\" : \"Napoléon\"\n",
    "    }, \n",
    "    {\n",
    "        \"question\" : \"My favorite number ?\", \n",
    "        \"answer\" : 3\n",
    "    }, \n",
    "    {\n",
    "        \"question\" : \"What's the color of my cat?\", \n",
    "        \"answer\" : \"Dark grey\"\n",
    "    }]\n",
    "\n",
    "for i in quizz:\n",
    "    #question = i[\"question\"]\n",
    "    answer = input(i[\"question\"])\n",
    "    #print(i[\"question\"])\n",
    "    "
   ]
  },
  {
   "cell_type": "markdown",
   "metadata": {
    "colab_type": "text",
    "id": "sLMbYgaOyxiX"
   },
   "source": [
    "There's a problem with our quizz : if the user has not given the right answer, the program goes to next question. We would rather like to ask again the same question if the answer was wrong.\n",
    "\n",
    "5. Using a `while` loop, make sure that the same question will be asked again when the answer was wrong\n",
    "\n",
    "6. Rewrite your code such that this behaviour is applied to all questions."
   ]
  },
  {
   "cell_type": "code",
   "execution_count": 1,
   "metadata": {
    "colab": {
     "base_uri": "https://localhost:8080/",
     "height": 170
    },
    "colab_type": "code",
    "id": "csyxqJzBxPfN",
    "outputId": "0e671bec-2b70-424e-f110-d4792423dd7a"
   },
   "outputs": [
    {
     "name": "stdin",
     "output_type": "stream",
     "text": [
      "1. What's the name of Napoleon? n\n"
     ]
    },
    {
     "name": "stdout",
     "output_type": "stream",
     "text": [
      "Too bad! that is not the correct answer for the question 1\n"
     ]
    },
    {
     "name": "stdin",
     "output_type": "stream",
     "text": [
      "1. What's the name of Napoleon? \n"
     ]
    },
    {
     "name": "stdout",
     "output_type": "stream",
     "text": [
      "Too bad! that is not the correct answer for the question 1\n"
     ]
    },
    {
     "name": "stdin",
     "output_type": "stream",
     "text": [
      "1. What's the name of Napoleon? n\n"
     ]
    },
    {
     "name": "stdout",
     "output_type": "stream",
     "text": [
      "Too bad! that is not the correct answer for the question 1\n"
     ]
    },
    {
     "name": "stdin",
     "output_type": "stream",
     "text": [
      "1. What's the name of Napoleon? nn\n"
     ]
    },
    {
     "name": "stdout",
     "output_type": "stream",
     "text": [
      "Too bad! that is not the correct answer for the question 1\n"
     ]
    },
    {
     "name": "stdin",
     "output_type": "stream",
     "text": [
      "1. What's the name of Napoleon? Napoléon\n"
     ]
    },
    {
     "name": "stdout",
     "output_type": "stream",
     "text": [
      "Good job! This is the right answer for the question 1\n"
     ]
    },
    {
     "name": "stdin",
     "output_type": "stream",
     "text": [
      "2. My favorite number ? 3\n"
     ]
    },
    {
     "name": "stdout",
     "output_type": "stream",
     "text": [
      "Good job! This is the right answer for the question 2\n"
     ]
    },
    {
     "name": "stdin",
     "output_type": "stream",
     "text": [
      "3. What's the color of my cat? dark\n"
     ]
    },
    {
     "name": "stdout",
     "output_type": "stream",
     "text": [
      "Too bad! that is not the correct answer for the question 3\n"
     ]
    },
    {
     "name": "stdin",
     "output_type": "stream",
     "text": [
      "3. What's the color of my cat? dark grey\n"
     ]
    },
    {
     "name": "stdout",
     "output_type": "stream",
     "text": [
      "Good job! This is the right answer for the question 3\n",
      "Good Job, it's finished\n"
     ]
    }
   ],
   "source": [
    "quizz = [\n",
    "    {\n",
    "        \"question\" : \"1. What's the name of Napoleon?\", \n",
    "        \"answer\" : \"napoléon\"\n",
    "    }, \n",
    "    {\n",
    "        \"question\" : \"2. My favorite number ?\", \n",
    "        \"answer\" : \"3\"\n",
    "    }, \n",
    "    {\n",
    "        \"question\" : \"3. What's the color of my cat?\", \n",
    "        \"answer\" : \"dark grey\"\n",
    "    }]\n",
    "\n",
    "for index, i in enumerate(quizz):\n",
    "    right_answer = i[\"answer\"]\n",
    "    user_answer = input(i[\"question\"])\n",
    "\n",
    "    while right_answer != user_answer:\n",
    "        print(\"Too bad! that is not the correct answer for the question {}\".format(index + 1))\n",
    "        user_answer = input(i[\"question\"]).lower()\n",
    "\n",
    "\n",
    "    print(\"Good job! This is the right answer for the question {}\".format(index + 1))\n",
    "\n",
    "print(\"Good Job, it's finished\")"
   ]
  },
  {
   "cell_type": "markdown",
   "metadata": {
    "colab_type": "text",
    "id": "nh4voWn8x3dM"
   },
   "source": [
    "Now, we would like to tackle a last problem : we want to allow only 3 wrong answers (among all questions).\n",
    "\n",
    "7. Improve your code : if the user makes 3 wrong answers, the program should stop and print (\"Too bad, you lost the game !\")\n"
   ]
  },
  {
   "cell_type": "code",
   "execution_count": 13,
   "metadata": {
    "colab": {
     "base_uri": "https://localhost:8080/",
     "height": 170
    },
    "colab_type": "code",
    "id": "adKPQe1Hsi2g",
    "outputId": "45d36fc8-90ae-4f00-b73a-73b1e6e57e6e",
    "tags": []
   },
   "outputs": [
    {
     "name": "stdin",
     "output_type": "stream",
     "text": [
      "1. What's the name of Napoleon? napoléon\n"
     ]
    },
    {
     "name": "stdout",
     "output_type": "stream",
     "text": [
      "Good job! This is the right answer for the question 1\n"
     ]
    },
    {
     "name": "stdin",
     "output_type": "stream",
     "text": [
      "2. My favorite number ? 2\n"
     ]
    },
    {
     "name": "stdout",
     "output_type": "stream",
     "text": [
      "Too bad! that is not the correct answer for the question 2\n",
      "left 2 chances\n"
     ]
    },
    {
     "name": "stdin",
     "output_type": "stream",
     "text": [
      "2. My favorite number ? 3\n"
     ]
    },
    {
     "name": "stdout",
     "output_type": "stream",
     "text": [
      "Good job! This is the right answer for the question 2\n"
     ]
    },
    {
     "name": "stdin",
     "output_type": "stream",
     "text": [
      "3. What's the color of my cat? grey\n"
     ]
    },
    {
     "name": "stdout",
     "output_type": "stream",
     "text": [
      "Too bad! that is not the correct answer for the question 3\n",
      "Last chance\n"
     ]
    },
    {
     "name": "stdin",
     "output_type": "stream",
     "text": [
      "3. What's the color of my cat? dark grey\n"
     ]
    },
    {
     "name": "stdout",
     "output_type": "stream",
     "text": [
      "Good job! This is the right answer for the question 3\n",
      "Good Job, it's finished\n"
     ]
    }
   ],
   "source": [
    "quizz = [\n",
    "    {\n",
    "        \"question\" : \"1. What's the name of Napoleon?\", \n",
    "        \"answer\" : \"napoléon\"\n",
    "    }, \n",
    "    {\n",
    "        \"question\" : \"2. My favorite number ?\", \n",
    "        \"answer\" : \"3\"\n",
    "    }, \n",
    "    {\n",
    "        \"question\" : \"3. What's the color of my cat?\", \n",
    "        \"answer\" : \"dark grey\"\n",
    "    }]\n",
    "\n",
    "error_count = 0\n",
    "\n",
    "for index, i in enumerate(quizz):\n",
    "    if error_count > 2:\n",
    "            break\n",
    "        \n",
    "    right_answer = i[\"answer\"]\n",
    "    user_answer = None\n",
    "\n",
    "    while right_answer != user_answer:\n",
    "        user_answer = input(i[\"question\"]).lower()\n",
    "        \n",
    "        if right_answer != user_answer:\n",
    "            print(\"Too bad! that is not the correct answer for the question {}\".format(index + 1))\n",
    "            error_count = error_count + 1\n",
    "        \n",
    "            if error_count == 2:\n",
    "                print(\"Last chance\")\n",
    "            elif error_count > 2:\n",
    "                break\n",
    "            else:\n",
    "                print(\"left {} chances\".format(3 - error_count))\n",
    "\n",
    "    if error_count <= 2:\n",
    "        print(\"Good job! This is the right answer for the question {}\".format(index + 1))\n",
    "    \n",
    "if error_count <= 2:\n",
    "    print(\"Good Job, it's finished\")\n",
    "else:\n",
    "    print(\"You lost the game\")\n",
    "    "
   ]
  },
  {
   "cell_type": "code",
   "execution_count": null,
   "metadata": {
    "colab": {},
    "colab_type": "code",
    "id": "rA-XJKh-orgc"
   },
   "outputs": [],
   "source": []
  }
 ],
 "metadata": {
  "colab": {
   "name": "Construire un quiz - SOLUTIONS S1-1A.ipynb",
   "provenance": []
  },
  "kernelspec": {
   "display_name": "Python 3 (ipykernel)",
   "language": "python",
   "name": "python3"
  },
  "language_info": {
   "codemirror_mode": {
    "name": "ipython",
    "version": 3
   },
   "file_extension": ".py",
   "mimetype": "text/x-python",
   "name": "python",
   "nbconvert_exporter": "python",
   "pygments_lexer": "ipython3",
   "version": "3.12.7"
  }
 },
 "nbformat": 4,
 "nbformat_minor": 4
}
