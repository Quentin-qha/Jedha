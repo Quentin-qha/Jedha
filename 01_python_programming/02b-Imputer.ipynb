{
 "cells": [
  {
   "cell_type": "markdown",
   "metadata": {
    "colab_type": "text",
    "id": "6cqYL_Y0rfoH"
   },
   "source": [
    "# Imputer"
   ]
  },
  {
   "cell_type": "markdown",
   "metadata": {
    "colab_type": "text",
    "id": "sB61JRG-rj6v"
   },
   "source": [
    "_In data science, it's common for there to be missing values in a dataset. Let's see how we can create a class that will allow us to replace this missing value by the average of the values in the list_"
   ]
  },
  {
   "cell_type": "markdown",
   "metadata": {
    "colab_type": "text",
    "id": "nvclKDGOrlV3"
   },
   "source": [
    "1. _Create a class that we will call Imputer_.\n",
    "2. _To simplify the exercise, we will only deal with lists for the moment._\n",
    "3. _Our class will take an attribute that we will call list_.\n",
    "4. _Create an avg() function that will first remove the missing value and then replace it with the average of the list._"
   ]
  },
  {
   "cell_type": "code",
   "execution_count": 1,
   "metadata": {
    "colab": {
     "base_uri": "https://localhost:8080/",
     "height": 52
    },
    "colab_type": "code",
    "id": "4agC-7RLrQSp",
    "outputId": "c98a0475-d2f7-4e53-e3b3-e45b2c1874ff"
   },
   "outputs": [
    {
     "name": "stdout",
     "output_type": "stream",
     "text": [
      "Here's my initial list [None, 2, 4, 6, None]\n",
      "Here is my list after imputer : [4.0, 2, 4, 6, 4.0]\n"
     ]
    }
   ],
   "source": []
  },
  {
   "cell_type": "code",
   "execution_count": 281,
   "metadata": {},
   "outputs": [],
   "source": [
    "class Imputer():\n",
    "    def __init__(self, user_list):\n",
    "        self.my_list = user_list\n",
    "\n",
    "    def avg(self):\n",
    "        total = 0\n",
    "        nbr_count = 0\n",
    "        \n",
    "        for item in self.my_list:\n",
    "            if isinstance(item, (float, int)):\n",
    "                total += item\n",
    "                nbr_count += 1\n",
    "\n",
    "        averaga_total = total / nbr_count\n",
    "\n",
    "        for index, item in enumerate(self.my_list):\n",
    "            if not isinstance(item, (float, int)):\n",
    "                self.my_list[index] = averaga_total\n",
    "\n",
    "        return self.my_list"
   ]
  },
  {
   "cell_type": "code",
   "execution_count": 165,
   "metadata": {},
   "outputs": [
    {
     "data": {
      "text/plain": [
       "[4.0, 2, 4, 6, 4.0]"
      ]
     },
     "execution_count": 165,
     "metadata": {},
     "output_type": "execute_result"
    }
   ],
   "source": [
    "my_list = [None, 2, 4, 6, None]\n",
    "\n",
    "new_avg = Imputer(my_list)\n",
    "new_avg.avg()"
   ]
  },
  {
   "cell_type": "markdown",
   "metadata": {
    "colab_type": "text",
    "id": "bc7K3aMYr9uH"
   },
   "source": [
    "# OPTIONAL - Improve Imputer\n",
    "\n",
    "_We have created our Imputer class which works very well for replacing missing values with averages. But, couldn't we also use this class to replace with a median? Try to add a method in Imputer that will allow us to replace the list with either the average or the median._"
   ]
  },
  {
   "cell_type": "code",
   "execution_count": 2,
   "metadata": {
    "colab": {
     "base_uri": "https://localhost:8080/",
     "height": 86
    },
    "colab_type": "code",
    "id": "vWlNZ5nDrqPa",
    "outputId": "b80570c6-7d61-4ee6-8da0-deefadcf6f3e"
   },
   "outputs": [
    {
     "name": "stdout",
     "output_type": "stream",
     "text": [
      "Here is a list : [None, 2, 3, 12, 5, 6, None]\n",
      "Here is the list with the empty values replaced by the average value : [5.6, 2, 3, 12, 5, 6, 5.6]\n",
      "Here is a list : [None, 2, 3, 12, 5, 6, None]\n",
      "Here is the list with the empty values replaced by the median : [5, 2, 3, 12, 5, 6, 5]\n"
     ]
    }
   ],
   "source": []
  },
  {
   "cell_type": "code",
   "execution_count": 276,
   "metadata": {},
   "outputs": [],
   "source": [
    "class Imputer():\n",
    "    def __init__(self, user_list):\n",
    "        self.my_list = user_list\n",
    "\n",
    "    def avg(self):\n",
    "        total = 0\n",
    "        nbr_count = 0\n",
    "        \n",
    "        for item in self.my_list:\n",
    "            if isinstance(item, (float, int)):\n",
    "                total += item\n",
    "                nbr_count += 1\n",
    "\n",
    "        averaga_total = total / nbr_count\n",
    "\n",
    "        for index, item in enumerate(self.my_list):\n",
    "            if not isinstance(item, (float, int)):\n",
    "                self.my_list[index] = averaga_total\n",
    "\n",
    "        return self.my_list \n",
    "\n",
    "    def median_real(self):\n",
    "        number_list_only = []\n",
    "\n",
    "        for nbr in self.my_list:\n",
    "             if isinstance(nbr, (float, int)):\n",
    "                 number_list_only.append(nbr)\n",
    "\n",
    "        number_list_sorted = sorted(number_list_only)\n",
    "        median_list_position = round(len(number_list_only)/2)\n",
    "        median_value = number_list_sorted[median_list_position]\n",
    "\n",
    "        for index, item in enumerate(self.my_list):\n",
    "            if not isinstance(item, (float, int)):\n",
    "                self.my_list[index] = median_value\n",
    "\n",
    "        return self.my_list "
   ]
  },
  {
   "cell_type": "code",
   "execution_count": 278,
   "metadata": {},
   "outputs": [
    {
     "data": {
      "text/plain": [
       "[21, 4, 21, 12, 34, 102, 21, 21]"
      ]
     },
     "execution_count": 278,
     "metadata": {},
     "output_type": "execute_result"
    }
   ],
   "source": [
    "beautifull_list = [None, 4, \"Hello\", 12, 34, 102, None, 21]\n",
    "\n",
    "magic_happen = Imputer(beautifull_list)\n",
    "#magic_happen.median()\n",
    "magic_happen.median_real()"
   ]
  },
  {
   "cell_type": "code",
   "execution_count": null,
   "metadata": {},
   "outputs": [],
   "source": []
  }
 ],
 "metadata": {
  "colab": {
   "collapsed_sections": [],
   "name": "Imputer - Exercice S1-3.ipynb",
   "provenance": [],
   "version": "0.3.2"
  },
  "kernelspec": {
   "display_name": "Python 3 (ipykernel)",
   "language": "python",
   "name": "python3"
  },
  "language_info": {
   "codemirror_mode": {
    "name": "ipython",
    "version": 3
   },
   "file_extension": ".py",
   "mimetype": "text/x-python",
   "name": "python",
   "nbconvert_exporter": "python",
   "pygments_lexer": "ipython3",
   "version": "3.12.7"
  }
 },
 "nbformat": 4,
 "nbformat_minor": 4
}
